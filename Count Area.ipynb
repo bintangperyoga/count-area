{
 "cells": [
  {
   "cell_type": "code",
   "execution_count": 9,
   "metadata": {},
   "outputs": [],
   "source": [
    "import random"
   ]
  },
  {
   "cell_type": "code",
   "execution_count": 10,
   "metadata": {},
   "outputs": [
    {
     "name": "stdout",
     "output_type": "stream",
     "text": [
      "179.5368819763686\n"
     ]
    }
   ],
   "source": [
    "a=0\n",
    "b=5\n",
    "N=100000\n",
    "nhit = 0\n",
    "\n",
    "def ep_eks(x):\n",
    "    return x**3 + 5\n",
    "\n",
    "def ep_maks(b):\n",
    "    i = 0\n",
    "    xlist = []\n",
    "    while i<=b:\n",
    "        xlist.append(i)\n",
    "        i = i+0.001\n",
    "    ylist = []\n",
    "    for j in range(len(xlist)):\n",
    "        z = ep_eks(xlist[j])\n",
    "        ylist.append(z)\n",
    "    return max(ylist)\n",
    "\n",
    "fmaks = ep_maks(b)\n",
    "\n",
    "for i in range(N):\n",
    "    xrand = (random.uniform(0,1)*(b-a))+a\n",
    "    yrand = random.uniform(0,1)*fmaks\n",
    "    if yrand <= ep_eks(xrand):\n",
    "        nhit = nhit + 1\n",
    "la = b*fmaks\n",
    "ld = (nhit/N)*la\n",
    "print(ld)"
   ]
  },
  {
   "cell_type": "code",
   "execution_count": null,
   "metadata": {},
   "outputs": [],
   "source": []
  },
  {
   "cell_type": "code",
   "execution_count": null,
   "metadata": {},
   "outputs": [],
   "source": []
  }
 ],
 "metadata": {
  "kernelspec": {
   "display_name": "Python 3",
   "language": "python",
   "name": "python3"
  },
  "language_info": {
   "codemirror_mode": {
    "name": "ipython",
    "version": 3
   },
   "file_extension": ".py",
   "mimetype": "text/x-python",
   "name": "python",
   "nbconvert_exporter": "python",
   "pygments_lexer": "ipython3",
   "version": "3.7.0"
  }
 },
 "nbformat": 4,
 "nbformat_minor": 2
}
